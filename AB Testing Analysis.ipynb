{
 "cells": [
  {
   "cell_type": "markdown",
   "id": "18e70d45-a978-4c62-acf2-2251d04bafc5",
   "metadata": {},
   "source": [
    "# Task 3 - A/B Testing Analysis"
   ]
  },
  {
   "cell_type": "code",
   "execution_count": 1,
   "id": "482b1aa1-0117-4d4d-830c-3bbb1884c665",
   "metadata": {},
   "outputs": [],
   "source": [
    "import pandas as pd\n",
    "import numpy as np\n",
    "import matplotlib.pyplot as plt\n",
    "import seaborn as sns\n",
    "from scipy.stats import ttest_ind, shapiro, levene, chi2_contingency\n",
    "import warnings \n",
    "warnings.filterwarnings(\"ignore\")"
   ]
  },
  {
   "cell_type": "code",
   "execution_count": 2,
   "id": "c5a51ebd-f86e-49ac-aea0-32963ab2614c",
   "metadata": {},
   "outputs": [],
   "source": [
    "df = pd.read_csv('C:/Users/Rohit Gupta/Downloads/Social_Network_Ads.csv')"
   ]
  },
  {
   "cell_type": "code",
   "execution_count": 3,
   "id": "62bdb1c7-f0ea-48eb-b5e5-e0b1b6edbafa",
   "metadata": {},
   "outputs": [
    {
     "name": "stdout",
     "output_type": "stream",
     "text": [
      "    User ID  Gender  Age  EstimatedSalary  Purchased\n",
      "0  15624510    Male   19            19000          0\n",
      "1  15810944    Male   35            20000          0\n",
      "2  15668575  Female   26            43000          0\n",
      "3  15603246  Female   27            57000          0\n",
      "4  15804002    Male   19            76000          0\n"
     ]
    }
   ],
   "source": [
    "print(df.head())"
   ]
  },
  {
   "cell_type": "code",
   "execution_count": 4,
   "id": "74af918f-5fad-42a7-aa3a-8ad6400e927d",
   "metadata": {},
   "outputs": [
    {
     "name": "stdout",
     "output_type": "stream",
     "text": [
      "(400, 5)\n"
     ]
    }
   ],
   "source": [
    "print(df.shape)"
   ]
  },
  {
   "cell_type": "code",
   "execution_count": 5,
   "id": "9ae84648-9aa6-4686-93c1-8a8e66d1b29b",
   "metadata": {},
   "outputs": [
    {
     "name": "stdout",
     "output_type": "stream",
     "text": [
      "<class 'pandas.core.frame.DataFrame'>\n",
      "RangeIndex: 400 entries, 0 to 399\n",
      "Data columns (total 5 columns):\n",
      " #   Column           Non-Null Count  Dtype \n",
      "---  ------           --------------  ----- \n",
      " 0   User ID          400 non-null    int64 \n",
      " 1   Gender           400 non-null    object\n",
      " 2   Age              400 non-null    int64 \n",
      " 3   EstimatedSalary  400 non-null    int64 \n",
      " 4   Purchased        400 non-null    int64 \n",
      "dtypes: int64(4), object(1)\n",
      "memory usage: 15.8+ KB\n",
      "None\n"
     ]
    }
   ],
   "source": [
    "print(df.info())"
   ]
  },
  {
   "cell_type": "code",
   "execution_count": 6,
   "id": "39dd4c33-39ca-4b22-ae76-8c7f2297ee90",
   "metadata": {},
   "outputs": [
    {
     "name": "stdout",
     "output_type": "stream",
     "text": [
      "            User ID         Age  EstimatedSalary   Purchased\n",
      "count  4.000000e+02  400.000000       400.000000  400.000000\n",
      "mean   1.569154e+07   37.655000     69742.500000    0.357500\n",
      "std    7.165832e+04   10.482877     34096.960282    0.479864\n",
      "min    1.556669e+07   18.000000     15000.000000    0.000000\n",
      "25%    1.562676e+07   29.750000     43000.000000    0.000000\n",
      "50%    1.569434e+07   37.000000     70000.000000    0.000000\n",
      "75%    1.575036e+07   46.000000     88000.000000    1.000000\n",
      "max    1.581524e+07   60.000000    150000.000000    1.000000\n"
     ]
    }
   ],
   "source": [
    "print(df.describe())"
   ]
  },
  {
   "cell_type": "code",
   "execution_count": 8,
   "id": "a4529356-75ee-44f3-b4c9-4fb463e708eb",
   "metadata": {},
   "outputs": [
    {
     "name": "stdout",
     "output_type": "stream",
     "text": [
      "User ID            0\n",
      "Gender             0\n",
      "Age                0\n",
      "EstimatedSalary    0\n",
      "Purchased          0\n",
      "dtype: int64\n"
     ]
    }
   ],
   "source": [
    "print(df.isnull().sum())"
   ]
  },
  {
   "cell_type": "markdown",
   "id": "d94506e8-625d-43da-89ec-efbced0edd96",
   "metadata": {},
   "source": [
    "### No missing values are present in the given dataset."
   ]
  },
  {
   "cell_type": "code",
   "execution_count": 9,
   "id": "ef01ef7e-1cb7-4e0a-9ad9-635cd8e1c901",
   "metadata": {},
   "outputs": [
    {
     "data": {
      "image/png": "[encoded data removed]",
      "text/plain": [
       "<Figure size 600x400 with 1 Axes>"
      ]
     },
     "metadata": {},
     "output_type": "display_data"
    }
   ],
   "source": [
    "# I am comparing purchase rates between different genders (A/B test)\n",
    "# A/B test on the 'Gender' column's impact on 'Purchased'\n",
    "df['Purchased'] = df['Purchased'].astype(int)\n",
    "\n",
    "# Visualize the data\n",
    "plt.figure(figsize=(6, 4))\n",
    "sns.histplot(data=df, x='Purchased', hue='Gender', multiple='stack', kde=False)\n",
    "plt.title('Distribution of Purchases by Gender')\n",
    "plt.xlabel('Purchased')\n",
    "plt.ylabel('Frequency')\n",
    "plt.show()"
   ]
  },
  {
   "cell_type": "markdown",
   "id": "ba6bf4f6-22cf-4613-a990-aeffae10b341",
   "metadata": {},
   "source": [
    "### The female bar is taller than the male bar in the above plot. It looks like there are more females than males who made purchases."
   ]
  },
  {
   "cell_type": "markdown",
   "id": "c592889a-a7bb-48b2-a4e8-717d28452e81",
   "metadata": {},
   "source": [
    "# Statistical analysis of the data"
   ]
  },
  {
   "cell_type": "code",
   "execution_count": 11,
   "id": "c6f578e1-63f7-4e4d-8de5-962df5f153b9",
   "metadata": {},
   "outputs": [
    {
     "name": "stdout",
     "output_type": "stream",
     "text": [
      "            mean       std  count\n",
      "Gender                           \n",
      "Female  0.377451  0.485942    204\n",
      "Male    0.336735  0.473804    196\n",
      "P-value for normality test in males: 3.352074913414594e-21\n",
      "P-value for normality test in females: 3.499231677247163e-21\n",
      "P-value for Levene test for equal variances: 0.3969320199449011\n",
      "T-statistic: -0.8480281115892445\n",
      "P-value: 0.3969320199450945\n",
      "Fail to reject the null hypothesis: There is no significant difference in purchase rates between the genders.\n"
     ]
    }
   ],
   "source": [
    "# Summarizing the data\n",
    "summary = df.groupby('Gender')['Purchased'].agg(['mean', 'std', 'count'])\n",
    "print(summary)\n",
    "\n",
    "# Checking for normality\n",
    "stat, p_male = shapiro(df[df['Gender'] == 'Male']['Purchased'])\n",
    "stat, p_female = shapiro(df[df['Gender'] == 'Female']['Purchased'])\n",
    "print(f'P-value for normality test in males: {p_male}')\n",
    "print(f'P-value for normality test in females: {p_female}')\n",
    "\n",
    "# Checking for equal variances\n",
    "stat, p_levene = levene(df[df['Gender'] == 'Male']['Purchased'], df[df['Gender'] == 'Female']['Purchased'])\n",
    "print(f'P-value for Levene test for equal variances: {p_levene}')\n",
    "\n",
    "# Performing the t-test\n",
    "t_stat, p_val = ttest_ind(df[df['Gender'] == 'Male']['Purchased'], df[df['Gender'] == 'Female']['Purchased'], equal_var=(p_levene > 0.05))\n",
    "print(f'T-statistic: {t_stat}')\n",
    "print(f'P-value: {p_val}')\n",
    "\n",
    "# Interpreting the results\n",
    "alpha = 0.05\n",
    "if p_val < alpha:\n",
    "    print('Reject the null hypothesis: There is a significant difference in purchase rates between the genders.')\n",
    "else:\n",
    "    print('Fail to reject the null hypothesis: There is no significant difference in purchase rates between the genders.')"
   ]
  },
  {
   "cell_type": "markdown",
   "id": "a0657af7-2b37-409e-8bb7-295b608a92fa",
   "metadata": {},
   "source": [
    "### Normality test: It tests for whether the purchase rates within each gender group are normally distributed (follow a bell-shaped curve).\n",
    "- The p-values (3.35e-21 for females and 3.49e-21 for males) are incredibly small, indicating that the purchase rates likely don't follow a perfect bell curve."
   ]
  },
  {
   "cell_type": "markdown",
   "id": "d0db1407-a7d5-485a-bb70-f823ec87e8e6",
   "metadata": {},
   "source": [
    "### Levene test: This line tests whether the variances (spread of data points) for purchase rates are equal between males and females.\n",
    "- The p-value (0.3969) is greater than 0.05. This suggests that the variances in purchase rates are likely similar for males and females."
   ]
  },
  {
   "cell_type": "markdown",
   "id": "98a2c602-868c-4f2d-b53b-ca090c2b036c",
   "metadata": {},
   "source": [
    "### T-statistic and p-value: This section compares the mean purchase rates between genders.\n",
    "- The T-statistic (-0.848) is close to zero, indicating little difference in means.\n",
    "- The p-value (0.3969) is again greater than 0.05. This means there's not enough evidence to say that the average purchase rate between genders is statistically significant."
   ]
  },
  {
   "cell_type": "markdown",
   "id": "0e517f0b-fb50-41dc-a2d2-daf00f7c43af",
   "metadata": {},
   "source": [
    "### Overall purchase rates between genders are likely similar."
   ]
  },
  {
   "cell_type": "code",
   "execution_count": 12,
   "id": "75a3d814-0fc4-4f1c-bc54-747482492ff8",
   "metadata": {},
   "outputs": [
    {
     "name": "stdout",
     "output_type": "stream",
     "text": [
      "Chi2 Statistic: 0.5550869364098915\n",
      "P-value (Chi-square test): 0.45624659183130645\n",
      "Fail to reject the null hypothesis: There is no significant association between Gender and Purchased.\n"
     ]
    },
    {
     "data": {
      "image/png": "[encoded data removed]",
      "text/plain": [
       "<Figure size 600x400 with 1 Axes>"
      ]
     },
     "metadata": {},
     "output_type": "display_data"
    }
   ],
   "source": [
    "# performing Chi-square test for independence\n",
    "contingency_table = pd.crosstab(df['Gender'], df['Purchased'])\n",
    "chi2, p_chi, dof, expected = chi2_contingency(contingency_table)\n",
    "print(f'Chi2 Statistic: {chi2}')\n",
    "print(f'P-value (Chi-square test): {p_chi}')\n",
    "\n",
    "if p_chi < alpha:\n",
    "    print('Reject the null hypothesis: There is a significant association between Gender and Purchased.')\n",
    "else:\n",
    "    print('Fail to reject the null hypothesis: There is no significant association between Gender and Purchased.')\n",
    "\n",
    "# Additional visualization: Barplot\n",
    "plt.figure(figsize=(6, 4))\n",
    "sns.barplot(x='Gender', y='Purchased', data=df, ci=None)\n",
    "plt.title('Average Purchase Rate by Gender')\n",
    "plt.xlabel('Gender')\n",
    "plt.ylabel('Average Purchase Rate')\n",
    "plt.show()"
   ]
  },
  {
   "cell_type": "markdown",
   "id": "4df39520-d561-4604-8256-a7386df63e06",
   "metadata": {},
   "source": [
    "### Chi-square test: This is a statistical test used to see if there is a relationship between two categorical variables. A low p-value (typically less than 0.05) indicates that the results are statistically significant, meaning we can reject the null hypothesis."
   ]
  },
  {
   "cell_type": "markdown",
   "id": "cc8c13a2-e5f4-4b3f-8faa-a125430cfc1d",
   "metadata": {},
   "source": [
    "### This aligns with the conclusion from the t-test too. While there may be slight differences in average purchase rates between genders, the overall rates are likely similar. The chi-square test confirms that gender is not necessarily a predictor of whether or not someone makes a purchase."
   ]
  },
  {
   "cell_type": "markdown",
   "id": "073e6c94-a6d8-4193-b475-48c1d67caf34",
   "metadata": {},
   "source": [
    "# Thank You"
   ]
  },
  {
   "cell_type": "code",
   "execution_count": null,
   "id": "5e7a768d-fdf6-47d9-beec-cb7d93ed302e",
   "metadata": {},
   "outputs": [],
   "source": []
  },
  {
   "cell_type": "code",
   "execution_count": null,
   "id": "5e7e81b2-d58d-4a50-b807-128dc10dc540",
   "metadata": {},
   "outputs": [],
   "source": []
  },
  {
   "cell_type": "code",
   "execution_count": null,
   "id": "176bb124-56b9-4c55-9445-7dc1b5666371",
   "metadata": {},
   "outputs": [],
   "source": []
  },
  {
   "cell_type": "code",
   "execution_count": null,
   "id": "2a1417f1-91a5-40bb-83cf-61d634c6bba7",
   "metadata": {},
   "outputs": [],
   "source": []
  },
  {
   "cell_type": "code",
   "execution_count": null,
   "id": "a2f02323-1e6e-463d-a694-26b90a52deb5",
   "metadata": {},
   "outputs": [],
   "source": []
  },
  {
   "cell_type": "code",
   "execution_count": null,
   "id": "260c9294-8150-4502-8686-7e918e62492d",
   "metadata": {},
   "outputs": [],
   "source": []
  },
  {
   "cell_type": "code",
   "execution_count": null,
   "id": "f8f7fd30-2b78-4965-b80c-1b1b326fb3e2",
   "metadata": {},
   "outputs": [],
   "source": []
  },
  {
   "cell_type": "code",
   "execution_count": null,
   "id": "e8f135b9-8153-4890-88a4-5d71fe568584",
   "metadata": {},
   "outputs": [],
   "source": []
  },
  {
   "cell_type": "code",
   "execution_count": null,
   "id": "c56c8823-a29b-4007-bef3-81240e6ffd00",
   "metadata": {},
   "outputs": [],
   "source": []
  },
  {
   "cell_type": "code",
   "execution_count": null,
   "id": "a5a70aeb-09ba-4611-893f-acde5a180c52",
   "metadata": {},
   "outputs": [],
   "source": []
  },
  {
   "cell_type": "code",
   "execution_count": null,
   "id": "eb61217a-e4bf-4bef-9053-117af3e6caad",
   "metadata": {},
   "outputs": [],
   "source": []
  },
  {
   "cell_type": "code",
   "execution_count": null,
   "id": "4ac0ac7f-fdc8-4056-a0ea-de7b5d129848",
   "metadata": {},
   "outputs": [],
   "source": []
  },
  {
   "cell_type": "code",
   "execution_count": null,
   "id": "a76a71c8-4a21-46c7-97d9-673fe7bd17b5",
   "metadata": {},
   "outputs": [],
   "source": []
  },
  {
   "cell_type": "code",
   "execution_count": null,
   "id": "7fa4ee73-76fd-458c-8224-722699acc909",
   "metadata": {},
   "outputs": [],
   "source": []
  },
  {
   "cell_type": "code",
   "execution_count": null,
   "id": "09ed636f-e14c-4e47-bd1b-ebd9d686286a",
   "metadata": {},
   "outputs": [],
   "source": []
  },
  {
   "cell_type": "code",
   "execution_count": null,
   "id": "73532cd1-2810-4346-a9df-fa93eed7dbf8",
   "metadata": {},
   "outputs": [],
   "source": []
  },
  {
   "cell_type": "code",
   "execution_count": null,
   "id": "3076561f-2d94-48f9-9802-ac8feea7e2f1",
   "metadata": {},
   "outputs": [],
   "source": []
  },
  {
   "cell_type": "code",
   "execution_count": null,
   "id": "f4bf70b3-434b-4305-b6b1-fbdb760bb920",
   "metadata": {},
   "outputs": [],
   "source": []
  },
  {
   "cell_type": "code",
   "execution_count": null,
   "id": "c239baea-9879-445f-844f-8ec487ec4858",
   "metadata": {},
   "outputs": [],
   "source": []
  },
  {
   "cell_type": "code",
   "execution_count": null,
   "id": "2e3681f3-054f-4d44-9386-ba81ee786d1c",
   "metadata": {},
   "outputs": [],
   "source": []
  },
  {
   "cell_type": "code",
   "execution_count": null,
   "id": "10e99cad-45a5-46c0-adc6-b0547ceb03ad",
   "metadata": {},
   "outputs": [],
   "source": []
  },
  {
   "cell_type": "code",
   "execution_count": null,
   "id": "21a4584d-6d84-47aa-9eb1-0260df837fc0",
   "metadata": {},
   "outputs": [],
   "source": []
  },
  {
   "cell_type": "code",
   "execution_count": null,
   "id": "fe92938a-0dc7-4860-939f-2749d78c5086",
   "metadata": {},
   "outputs": [],
   "source": []
  }
 ],
 "metadata": {
  "kernelspec": {
   "display_name": "Python 3 (ipykernel)",
   "language": "python",
   "name": "python3"
  },
  "language_info": {
   "codemirror_mode": {
    "name": "ipython",
    "version": 3
   },
   "file_extension": ".py",
   "mimetype": "text/x-python",
   "name": "python",
   "nbconvert_exporter": "python",
   "pygments_lexer": "ipython3",
   "version": "3.11.7"
  }
 },
 "nbformat": 4,
 "nbformat_minor": 5
}
